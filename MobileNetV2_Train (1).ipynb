{
  "nbformat": 4,
  "nbformat_minor": 0,
  "metadata": {
    "colab": {
      "provenance": [],
      "machine_shape": "hm",
      "gpuType": "A100"
    },
    "kernelspec": {
      "name": "python3",
      "display_name": "Python 3"
    },
    "language_info": {
      "name": "python"
    },
    "accelerator": "GPU"
  },
  "cells": [
    {
      "cell_type": "code",
      "execution_count": 2,
      "metadata": {
        "id": "gdVqk87t77M2"
      },
      "outputs": [],
      "source": [
        "import tensorflow as tf\n",
        "import matplotlib.pyplot as plt\n",
        "import numpy as np\n",
        "import seaborn as sns\n",
        "import pandas as pd\n"
      ]
    },
    {
      "cell_type": "code",
      "source": [
        "\n"
      ],
      "metadata": {
        "id": "KNiT0ERqzzqb"
      },
      "execution_count": 2,
      "outputs": []
    },
    {
      "cell_type": "code",
      "source": [
        "training_set = tf.keras.utils.image_dataset_from_directory(\n",
        "    '/content/drive/MyDrive/PlantVillage_split/train',\n",
        "    labels=\"inferred\",\n",
        "    label_mode=\"categorical\",\n",
        "    color_mode=\"rgb\",\n",
        "    batch_size=32,\n",
        "    image_size=(128, 128),\n",
        "    shuffle=True,\n",
        "    seed=None,\n",
        "    validation_split=None,\n",
        "    subset=None,\n",
        "    interpolation=\"bilinear\",\n",
        "    follow_links=False,\n",
        "    crop_to_aspect_ratio=False,\n",
        ")"
      ],
      "metadata": {
        "colab": {
          "base_uri": "https://localhost:8080/"
        },
        "id": "NR18pT5YjNfW",
        "outputId": "1f9ac212-8096-45cd-96f9-c8f52474d563"
      },
      "execution_count": 13,
      "outputs": [
        {
          "output_type": "stream",
          "name": "stdout",
          "text": [
            "Found 44361 files belonging to 39 classes.\n"
          ]
        }
      ]
    },
    {
      "cell_type": "code",
      "source": [
        "validation_set = tf.keras.utils.image_dataset_from_directory(\n",
        "    '/content/drive/MyDrive/PlantVillage_split/val',\n",
        "    labels=\"inferred\",\n",
        "    label_mode=\"categorical\",\n",
        "    color_mode=\"rgb\",\n",
        "    batch_size=32,\n",
        "    image_size=(128, 128),\n",
        "    shuffle=True,\n",
        "    seed=None,\n",
        "    validation_split=None,\n",
        "    subset=None,\n",
        "    interpolation=\"bilinear\",\n",
        "    follow_links=False,\n",
        "    crop_to_aspect_ratio=False,\n",
        ")"
      ],
      "metadata": {
        "colab": {
          "base_uri": "https://localhost:8080/"
        },
        "id": "CmO6Jh8ujSBZ",
        "outputId": "bd53f0ce-752c-45cb-c57c-7681fbbb8221"
      },
      "execution_count": 14,
      "outputs": [
        {
          "output_type": "stream",
          "name": "stdout",
          "text": [
            "Found 11087 files belonging to 39 classes.\n"
          ]
        }
      ]
    },
    {
      "cell_type": "code",
      "source": [
        "for x,y in training_set:\n",
        "    print(x,x.shape)\n",
        "    print(y,y.shape)\n",
        "    break"
      ],
      "metadata": {
        "colab": {
          "base_uri": "https://localhost:8080/"
        },
        "id": "V8ytdoTmjVKu",
        "outputId": "207924a7-88c1-4d40-c4c1-b0293d238322"
      },
      "execution_count": 6,
      "outputs": [
        {
          "output_type": "stream",
          "name": "stdout",
          "text": [
            "tf.Tensor(\n",
            "[[[[103.5   91.5   91.5 ]\n",
            "   [ 94.5   82.5   82.5 ]\n",
            "   [ 93.    81.    81.  ]\n",
            "   ...\n",
            "   [ 88.    74.    73.  ]\n",
            "   [ 99.25  85.25  84.25]\n",
            "   [ 97.25  83.25  82.25]]\n",
            "\n",
            "  [[103.    91.    91.  ]\n",
            "   [107.    95.    95.  ]\n",
            "   [ 93.    81.    81.  ]\n",
            "   ...\n",
            "   [ 90.25  76.25  75.25]\n",
            "   [ 95.5   81.5   80.5 ]\n",
            "   [ 97.    83.    82.  ]]\n",
            "\n",
            "  [[108.25  96.25  96.25]\n",
            "   [101.5   89.5   89.5 ]\n",
            "   [115.25 103.25 103.25]\n",
            "   ...\n",
            "   [108.75  94.75  93.75]\n",
            "   [ 97.25  83.25  82.25]\n",
            "   [ 98.25  84.25  83.25]]\n",
            "\n",
            "  ...\n",
            "\n",
            "  [[141.   129.   129.  ]\n",
            "   [142.   130.   130.  ]\n",
            "   [139.   127.   127.  ]\n",
            "   ...\n",
            "   [143.   129.   129.  ]\n",
            "   [141.75 127.75 127.75]\n",
            "   [135.75 121.75 121.75]]\n",
            "\n",
            "  [[133.25 121.25 121.25]\n",
            "   [141.25 129.25 129.25]\n",
            "   [138.5  126.5  126.5 ]\n",
            "   ...\n",
            "   [137.5  123.5  123.5 ]\n",
            "   [139.5  125.5  125.5 ]\n",
            "   [139.5  125.5  125.5 ]]\n",
            "\n",
            "  [[134.25 122.25 122.25]\n",
            "   [139.5  127.5  127.5 ]\n",
            "   [136.75 124.75 124.75]\n",
            "   ...\n",
            "   [136.   122.   122.  ]\n",
            "   [136.5  122.5  122.5 ]\n",
            "   [141.5  127.5  127.5 ]]]\n",
            "\n",
            "\n",
            " [[[208.5  207.5  203.5 ]\n",
            "   [195.   194.   190.  ]\n",
            "   [203.25 202.25 198.25]\n",
            "   ...\n",
            "   [193.5  189.5  186.5 ]\n",
            "   [178.25 174.25 171.25]\n",
            "   [186.25 182.25 179.25]]\n",
            "\n",
            "  [[202.25 201.25 197.25]\n",
            "   [210.75 209.75 205.75]\n",
            "   [211.5  210.5  206.5 ]\n",
            "   ...\n",
            "   [189.25 185.25 182.25]\n",
            "   [180.25 176.25 173.25]\n",
            "   [174.75 170.75 167.75]]\n",
            "\n",
            "  [[206.5  205.5  201.5 ]\n",
            "   [194.5  193.5  189.5 ]\n",
            "   [208.   207.   203.  ]\n",
            "   ...\n",
            "   [184.75 180.75 177.75]\n",
            "   [191.75 187.75 184.75]\n",
            "   [194.75 190.75 187.75]]\n",
            "\n",
            "  ...\n",
            "\n",
            "  [[155.5  144.5  138.5 ]\n",
            "   [156.75 145.75 139.75]\n",
            "   [154.75 143.75 137.75]\n",
            "   ...\n",
            "   [149.25 136.25 130.25]\n",
            "   [168.   155.   149.  ]\n",
            "   [162.75 149.75 143.75]]\n",
            "\n",
            "  [[156.75 143.75 137.75]\n",
            "   [142.75 129.75 123.75]\n",
            "   [130.75 117.75 111.75]\n",
            "   ...\n",
            "   [163.75 150.75 144.75]\n",
            "   [165.5  152.5  146.5 ]\n",
            "   [157.75 144.75 138.75]]\n",
            "\n",
            "  [[163.75 150.75 144.75]\n",
            "   [161.75 148.75 142.75]\n",
            "   [151.5  138.5  132.5 ]\n",
            "   ...\n",
            "   [153.75 140.75 134.75]\n",
            "   [159.5  146.5  140.5 ]\n",
            "   [174.   161.   155.  ]]]\n",
            "\n",
            "\n",
            " [[[195.   180.   185.  ]\n",
            "   [168.25 153.25 158.25]\n",
            "   [203.5  188.5  193.5 ]\n",
            "   ...\n",
            "   [221.5  211.5  219.5 ]\n",
            "   [207.75 197.75 205.75]\n",
            "   [225.25 215.25 223.25]]\n",
            "\n",
            "  [[180.25 165.25 170.25]\n",
            "   [192.5  177.5  182.5 ]\n",
            "   [181.75 166.75 171.75]\n",
            "   ...\n",
            "   [214.75 204.75 212.75]\n",
            "   [219.75 209.75 217.75]\n",
            "   [201.5  191.5  199.5 ]]\n",
            "\n",
            "  [[195.   180.   185.  ]\n",
            "   [172.75 157.75 162.75]\n",
            "   [192.   177.   182.  ]\n",
            "   ...\n",
            "   [218.25 208.25 216.25]\n",
            "   [219.75 209.75 217.75]\n",
            "   [205.75 195.75 203.75]]\n",
            "\n",
            "  ...\n",
            "\n",
            "  [[210.5  199.5  205.5 ]\n",
            "   [202.   191.   197.  ]\n",
            "   [187.75 176.75 182.75]\n",
            "   ...\n",
            "   [212.25 205.25 212.25]\n",
            "   [232.   225.   232.  ]\n",
            "   [212.5  205.5  212.5 ]]\n",
            "\n",
            "  [[196.5  185.5  191.5 ]\n",
            "   [195.   184.   190.  ]\n",
            "   [193.   182.   188.  ]\n",
            "   ...\n",
            "   [214.   207.   214.  ]\n",
            "   [206.   199.   206.  ]\n",
            "   [219.25 212.25 219.25]]\n",
            "\n",
            "  [[190.5  179.5  185.5 ]\n",
            "   [193.25 182.25 188.25]\n",
            "   [198.75 187.75 193.75]\n",
            "   ...\n",
            "   [221.25 214.25 221.25]\n",
            "   [209.75 202.75 209.75]\n",
            "   [221.75 214.75 221.75]]]\n",
            "\n",
            "\n",
            " ...\n",
            "\n",
            "\n",
            " [[[ 93.5   81.5   85.5 ]\n",
            "   [102.25  90.25  94.25]\n",
            "   [113.   101.   105.  ]\n",
            "   ...\n",
            "   [ 97.25  85.25  85.25]\n",
            "   [103.25  91.25  91.25]\n",
            "   [ 97.25  85.25  85.25]]\n",
            "\n",
            "  [[ 90.25  78.25  82.25]\n",
            "   [ 95.    83.    87.  ]\n",
            "   [107.75  95.75  99.75]\n",
            "   ...\n",
            "   [101.5   89.5   89.5 ]\n",
            "   [101.5   89.5   89.5 ]\n",
            "   [106.25  94.25  94.25]]\n",
            "\n",
            "  [[ 92.    80.    84.  ]\n",
            "   [ 99.    87.    91.  ]\n",
            "   [112.   100.   104.  ]\n",
            "   ...\n",
            "   [100.    88.    88.  ]\n",
            "   [107.    95.    95.  ]\n",
            "   [107.    95.    95.  ]]\n",
            "\n",
            "  ...\n",
            "\n",
            "  [[141.   126.   133.  ]\n",
            "   [147.25 132.25 139.25]\n",
            "   [154.75 139.75 146.75]\n",
            "   ...\n",
            "   [146.75 133.75 140.75]\n",
            "   [148.5  135.5  142.5 ]\n",
            "   [147.5  134.5  141.5 ]]\n",
            "\n",
            "  [[143.5  128.5  135.5 ]\n",
            "   [147.   132.   139.  ]\n",
            "   [151.   136.   143.  ]\n",
            "   ...\n",
            "   [149.5  136.5  143.5 ]\n",
            "   [151.75 138.75 145.75]\n",
            "   [155.5  142.5  149.5 ]]\n",
            "\n",
            "  [[145.   130.   137.  ]\n",
            "   [148.   133.   140.  ]\n",
            "   [144.75 129.75 136.75]\n",
            "   ...\n",
            "   [148.   135.   142.  ]\n",
            "   [138.   125.   132.  ]\n",
            "   [152.75 139.75 146.75]]]\n",
            "\n",
            "\n",
            " [[[ 64.75  80.75  35.75]\n",
            "   [ 66.    81.75  37.25]\n",
            "   [ 57.75  72.75  31.75]\n",
            "   ...\n",
            "   [120.5  123.5  142.5 ]\n",
            "   [118.75 121.75 140.75]\n",
            "   [118.   121.   140.  ]]\n",
            "\n",
            "  [[ 59.    74.    31.  ]\n",
            "   [ 69.5   84.5   42.  ]\n",
            "   [ 72.25  87.25  46.75]\n",
            "   ...\n",
            "   [119.25 122.25 141.25]\n",
            "   [114.5  117.5  136.5 ]\n",
            "   [125.   128.   147.  ]]\n",
            "\n",
            "  [[ 65.75  80.75  40.75]\n",
            "   [ 63.75  78.5   39.75]\n",
            "   [ 78.25  92.5   55.75]\n",
            "   ...\n",
            "   [120.5  123.5  142.5 ]\n",
            "   [122.5  125.5  144.5 ]\n",
            "   [118.5  121.5  140.5 ]]\n",
            "\n",
            "  ...\n",
            "\n",
            "  [[ 54.    59.    79.  ]\n",
            "   [ 57.    62.    82.  ]\n",
            "   [ 54.25  59.25  79.25]\n",
            "   ...\n",
            "   [ 94.5   99.5  121.5 ]\n",
            "   [ 93.    98.   120.  ]\n",
            "   [ 91.75  96.75 118.75]]\n",
            "\n",
            "  [[ 50.25  55.25  75.25]\n",
            "   [ 53.5   58.5   78.5 ]\n",
            "   [ 57.25  62.25  82.25]\n",
            "   ...\n",
            "   [ 88.5   93.5  115.5 ]\n",
            "   [ 85.75  90.75 112.75]\n",
            "   [ 90.25  95.25 117.25]]\n",
            "\n",
            "  [[ 56.5   61.5   81.5 ]\n",
            "   [ 56.75  61.75  81.75]\n",
            "   [ 59.    64.    84.  ]\n",
            "   ...\n",
            "   [ 91.25  96.25 118.25]\n",
            "   [ 88.    93.   115.  ]\n",
            "   [ 87.75  92.75 114.75]]]\n",
            "\n",
            "\n",
            " [[[163.5  156.5  150.5 ]\n",
            "   [163.5  156.5  150.5 ]\n",
            "   [154.   147.   141.  ]\n",
            "   ...\n",
            "   [155.25 145.25 136.25]\n",
            "   [157.25 147.25 138.25]\n",
            "   [148.5  138.5  129.5 ]]\n",
            "\n",
            "  [[159.75 152.75 146.75]\n",
            "   [161.75 154.75 148.75]\n",
            "   [151.75 144.75 138.75]\n",
            "   ...\n",
            "   [150.5  140.5  131.5 ]\n",
            "   [155.25 145.25 136.25]\n",
            "   [146.75 136.75 127.75]]\n",
            "\n",
            "  [[160.75 153.75 147.75]\n",
            "   [156.5  149.5  143.5 ]\n",
            "   [154.75 147.75 141.75]\n",
            "   ...\n",
            "   [148.5  138.5  129.5 ]\n",
            "   [154.   144.   135.  ]\n",
            "   [157.   147.   138.  ]]\n",
            "\n",
            "  ...\n",
            "\n",
            "  [[218.25 217.25 213.25]\n",
            "   [215.25 214.25 210.25]\n",
            "   [212.75 211.75 207.75]\n",
            "   ...\n",
            "   [204.5  201.5  194.5 ]\n",
            "   [209.5  206.5  199.5 ]\n",
            "   [211.75 208.75 201.75]]\n",
            "\n",
            "  [[209.   208.   204.  ]\n",
            "   [214.5  213.5  209.5 ]\n",
            "   [212.75 211.75 207.75]\n",
            "   ...\n",
            "   [206.75 203.75 196.75]\n",
            "   [207.25 204.25 197.25]\n",
            "   [205.25 202.25 195.25]]\n",
            "\n",
            "  [[215.   214.   210.  ]\n",
            "   [217.   216.   212.  ]\n",
            "   [213.5  212.5  208.5 ]\n",
            "   ...\n",
            "   [206.25 203.25 196.25]\n",
            "   [205.5  202.5  195.5 ]\n",
            "   [209.   206.   199.  ]]]], shape=(32, 128, 128, 3), dtype=float32) (32, 128, 128, 3)\n",
            "tf.Tensor(\n",
            "[[0. 0. 0. ... 0. 0. 0.]\n",
            " [0. 0. 0. ... 0. 0. 0.]\n",
            " [0. 0. 0. ... 0. 0. 0.]\n",
            " ...\n",
            " [0. 0. 0. ... 1. 0. 0.]\n",
            " [0. 0. 0. ... 0. 0. 0.]\n",
            " [0. 0. 0. ... 0. 0. 0.]], shape=(32, 39), dtype=float32) (32, 39)\n"
          ]
        }
      ]
    },
    {
      "cell_type": "markdown",
      "source": [],
      "metadata": {
        "id": "9WLABH5hcS2k"
      }
    },
    {
      "cell_type": "code",
      "source": [
        "from tensorflow.keras import applications, layers, Model, Input"
      ],
      "metadata": {
        "id": "M01TcBSX9-o3"
      },
      "execution_count": 7,
      "outputs": []
    },
    {
      "cell_type": "code",
      "source": [
        "base = applications.EfficientNetB0(include_top=False, weights=\"imagenet\", input_shape=(128, 128, 3))\n",
        "base.trainable = False"
      ],
      "metadata": {
        "id": "Sx3bOclpcqeC",
        "colab": {
          "base_uri": "https://localhost:8080/"
        },
        "outputId": "acd904fd-e04b-429d-9227-969576715b72"
      },
      "execution_count": 8,
      "outputs": [
        {
          "output_type": "stream",
          "name": "stdout",
          "text": [
            "Downloading data from https://storage.googleapis.com/keras-applications/efficientnetb0_notop.h5\n",
            "\u001b[1m16705208/16705208\u001b[0m \u001b[32m━━━━━━━━━━━━━━━━━━━━\u001b[0m\u001b[37m\u001b[0m \u001b[1m2s\u001b[0m 0us/step\n"
          ]
        }
      ]
    },
    {
      "cell_type": "code",
      "source": [
        "from google.colab import drive\n",
        "drive.mount('/content/drive')"
      ],
      "metadata": {
        "colab": {
          "base_uri": "https://localhost:8080/"
        },
        "id": "g-60iBZBBEfI",
        "outputId": "ae2b70fe-0461-4afc-f718-a0fdd771aa35"
      },
      "execution_count": null,
      "outputs": [
        {
          "output_type": "stream",
          "name": "stdout",
          "text": [
            "Drive already mounted at /content/drive; to attempt to forcibly remount, call drive.mount(\"/content/drive\", force_remount=True).\n"
          ]
        }
      ]
    },
    {
      "cell_type": "code",
      "source": [
        "inputs = Input(shape=(128, 128, 3))\n",
        "x = base(inputs, training=False)\n",
        "x = layers.GlobalAveragePooling2D()(x)\n",
        "x = layers.Dropout(0.25)(x)\n",
        "outputs = layers.Dense(39, activation=\"softmax\")(x)\n",
        "\n",
        "mod = Model(inputs, outputs)"
      ],
      "metadata": {
        "id": "1e1xdfAtdZyU"
      },
      "execution_count": 9,
      "outputs": []
    },
    {
      "cell_type": "markdown",
      "source": [
        "# Mod complation"
      ],
      "metadata": {
        "id": "Zg3gZkkpfP_X"
      }
    },
    {
      "cell_type": "code",
      "source": [],
      "metadata": {
        "id": "gMtwoX7AfTm5"
      },
      "execution_count": null,
      "outputs": []
    },
    {
      "cell_type": "code",
      "source": [
        "mod.compile(optimizer=\"adam\",\n",
        "              loss=\"categorical_crossentropy\",\n",
        "              metrics=[\"accuracy\"])\n",
        "history = mod.fit(training_set, validation_data=validation_set, epochs=10)\n",
        "mod.summary()"
      ],
      "metadata": {
        "id": "cxVzu0VAfc0d",
        "colab": {
          "base_uri": "https://localhost:8080/",
          "height": 708
        },
        "outputId": "ce9484da-d7bc-41c9-b16c-2b0404aabb05"
      },
      "execution_count": 11,
      "outputs": [
        {
          "output_type": "stream",
          "name": "stdout",
          "text": [
            "Epoch 1/10\n",
            "\u001b[1m1387/1387\u001b[0m \u001b[32m━━━━━━━━━━━━━━━━━━━━\u001b[0m\u001b[37m\u001b[0m \u001b[1m3331s\u001b[0m 2s/step - accuracy: 0.7094 - loss: 1.1858 - val_accuracy: 0.9221 - val_loss: 0.3024\n",
            "Epoch 2/10\n",
            "\u001b[1m1387/1387\u001b[0m \u001b[32m━━━━━━━━━━━━━━━━━━━━\u001b[0m\u001b[37m\u001b[0m \u001b[1m70s\u001b[0m 50ms/step - accuracy: 0.9150 - loss: 0.3116 - val_accuracy: 0.9375 - val_loss: 0.2209\n",
            "Epoch 3/10\n",
            "\u001b[1m1387/1387\u001b[0m \u001b[32m━━━━━━━━━━━━━━━━━━━━\u001b[0m\u001b[37m\u001b[0m \u001b[1m70s\u001b[0m 50ms/step - accuracy: 0.9299 - loss: 0.2410 - val_accuracy: 0.9453 - val_loss: 0.1888\n",
            "Epoch 4/10\n",
            "\u001b[1m1387/1387\u001b[0m \u001b[32m━━━━━━━━━━━━━━━━━━━━\u001b[0m\u001b[37m\u001b[0m \u001b[1m69s\u001b[0m 50ms/step - accuracy: 0.9363 - loss: 0.2056 - val_accuracy: 0.9493 - val_loss: 0.1680\n",
            "Epoch 5/10\n",
            "\u001b[1m1387/1387\u001b[0m \u001b[32m━━━━━━━━━━━━━━━━━━━━\u001b[0m\u001b[37m\u001b[0m \u001b[1m69s\u001b[0m 50ms/step - accuracy: 0.9454 - loss: 0.1798 - val_accuracy: 0.9534 - val_loss: 0.1525\n",
            "Epoch 6/10\n",
            "\u001b[1m1387/1387\u001b[0m \u001b[32m━━━━━━━━━━━━━━━━━━━━\u001b[0m\u001b[37m\u001b[0m \u001b[1m69s\u001b[0m 50ms/step - accuracy: 0.9474 - loss: 0.1684 - val_accuracy: 0.9545 - val_loss: 0.1458\n",
            "Epoch 7/10\n",
            "\u001b[1m1387/1387\u001b[0m \u001b[32m━━━━━━━━━━━━━━━━━━━━\u001b[0m\u001b[37m\u001b[0m \u001b[1m69s\u001b[0m 49ms/step - accuracy: 0.9478 - loss: 0.1599 - val_accuracy: 0.9550 - val_loss: 0.1412\n",
            "Epoch 8/10\n",
            "\u001b[1m1387/1387\u001b[0m \u001b[32m━━━━━━━━━━━━━━━━━━━━\u001b[0m\u001b[37m\u001b[0m \u001b[1m69s\u001b[0m 50ms/step - accuracy: 0.9514 - loss: 0.1532 - val_accuracy: 0.9586 - val_loss: 0.1336\n",
            "Epoch 9/10\n",
            "\u001b[1m1387/1387\u001b[0m \u001b[32m━━━━━━━━━━━━━━━━━━━━\u001b[0m\u001b[37m\u001b[0m \u001b[1m68s\u001b[0m 49ms/step - accuracy: 0.9535 - loss: 0.1470 - val_accuracy: 0.9588 - val_loss: 0.1324\n",
            "Epoch 10/10\n",
            "\u001b[1m1387/1387\u001b[0m \u001b[32m━━━━━━━━━━━━━━━━━━━━\u001b[0m\u001b[37m\u001b[0m \u001b[1m68s\u001b[0m 49ms/step - accuracy: 0.9517 - loss: 0.1404 - val_accuracy: 0.9595 - val_loss: 0.1290\n"
          ]
        },
        {
          "output_type": "display_data",
          "data": {
            "text/plain": [
              "\u001b[1mModel: \"functional\"\u001b[0m\n"
            ],
            "text/html": [
              "<pre style=\"white-space:pre;overflow-x:auto;line-height:normal;font-family:Menlo,'DejaVu Sans Mono',consolas,'Courier New',monospace\"><span style=\"font-weight: bold\">Model: \"functional\"</span>\n",
              "</pre>\n"
            ]
          },
          "metadata": {}
        },
        {
          "output_type": "display_data",
          "data": {
            "text/plain": [
              "┏━━━━━━━━━━━━━━━━━━━━━━━━━━━━━━━━━┳━━━━━━━━━━━━━━━━━━━━━━━━┳━━━━━━━━━━━━━━━┓\n",
              "┃\u001b[1m \u001b[0m\u001b[1mLayer (type)                   \u001b[0m\u001b[1m \u001b[0m┃\u001b[1m \u001b[0m\u001b[1mOutput Shape          \u001b[0m\u001b[1m \u001b[0m┃\u001b[1m \u001b[0m\u001b[1m      Param #\u001b[0m\u001b[1m \u001b[0m┃\n",
              "┡━━━━━━━━━━━━━━━━━━━━━━━━━━━━━━━━━╇━━━━━━━━━━━━━━━━━━━━━━━━╇━━━━━━━━━━━━━━━┩\n",
              "│ input_layer_1 (\u001b[38;5;33mInputLayer\u001b[0m)      │ (\u001b[38;5;45mNone\u001b[0m, \u001b[38;5;34m128\u001b[0m, \u001b[38;5;34m128\u001b[0m, \u001b[38;5;34m3\u001b[0m)    │             \u001b[38;5;34m0\u001b[0m │\n",
              "├─────────────────────────────────┼────────────────────────┼───────────────┤\n",
              "│ efficientnetb0 (\u001b[38;5;33mFunctional\u001b[0m)     │ (\u001b[38;5;45mNone\u001b[0m, \u001b[38;5;34m4\u001b[0m, \u001b[38;5;34m4\u001b[0m, \u001b[38;5;34m1280\u001b[0m)     │     \u001b[38;5;34m4,049,571\u001b[0m │\n",
              "├─────────────────────────────────┼────────────────────────┼───────────────┤\n",
              "│ global_average_pooling2d        │ (\u001b[38;5;45mNone\u001b[0m, \u001b[38;5;34m1280\u001b[0m)           │             \u001b[38;5;34m0\u001b[0m │\n",
              "│ (\u001b[38;5;33mGlobalAveragePooling2D\u001b[0m)        │                        │               │\n",
              "├─────────────────────────────────┼────────────────────────┼───────────────┤\n",
              "│ dropout (\u001b[38;5;33mDropout\u001b[0m)               │ (\u001b[38;5;45mNone\u001b[0m, \u001b[38;5;34m1280\u001b[0m)           │             \u001b[38;5;34m0\u001b[0m │\n",
              "├─────────────────────────────────┼────────────────────────┼───────────────┤\n",
              "│ dense (\u001b[38;5;33mDense\u001b[0m)                   │ (\u001b[38;5;45mNone\u001b[0m, \u001b[38;5;34m39\u001b[0m)             │        \u001b[38;5;34m49,959\u001b[0m │\n",
              "└─────────────────────────────────┴────────────────────────┴───────────────┘\n"
            ],
            "text/html": [
              "<pre style=\"white-space:pre;overflow-x:auto;line-height:normal;font-family:Menlo,'DejaVu Sans Mono',consolas,'Courier New',monospace\">┏━━━━━━━━━━━━━━━━━━━━━━━━━━━━━━━━━┳━━━━━━━━━━━━━━━━━━━━━━━━┳━━━━━━━━━━━━━━━┓\n",
              "┃<span style=\"font-weight: bold\"> Layer (type)                    </span>┃<span style=\"font-weight: bold\"> Output Shape           </span>┃<span style=\"font-weight: bold\">       Param # </span>┃\n",
              "┡━━━━━━━━━━━━━━━━━━━━━━━━━━━━━━━━━╇━━━━━━━━━━━━━━━━━━━━━━━━╇━━━━━━━━━━━━━━━┩\n",
              "│ input_layer_1 (<span style=\"color: #0087ff; text-decoration-color: #0087ff\">InputLayer</span>)      │ (<span style=\"color: #00d7ff; text-decoration-color: #00d7ff\">None</span>, <span style=\"color: #00af00; text-decoration-color: #00af00\">128</span>, <span style=\"color: #00af00; text-decoration-color: #00af00\">128</span>, <span style=\"color: #00af00; text-decoration-color: #00af00\">3</span>)    │             <span style=\"color: #00af00; text-decoration-color: #00af00\">0</span> │\n",
              "├─────────────────────────────────┼────────────────────────┼───────────────┤\n",
              "│ efficientnetb0 (<span style=\"color: #0087ff; text-decoration-color: #0087ff\">Functional</span>)     │ (<span style=\"color: #00d7ff; text-decoration-color: #00d7ff\">None</span>, <span style=\"color: #00af00; text-decoration-color: #00af00\">4</span>, <span style=\"color: #00af00; text-decoration-color: #00af00\">4</span>, <span style=\"color: #00af00; text-decoration-color: #00af00\">1280</span>)     │     <span style=\"color: #00af00; text-decoration-color: #00af00\">4,049,571</span> │\n",
              "├─────────────────────────────────┼────────────────────────┼───────────────┤\n",
              "│ global_average_pooling2d        │ (<span style=\"color: #00d7ff; text-decoration-color: #00d7ff\">None</span>, <span style=\"color: #00af00; text-decoration-color: #00af00\">1280</span>)           │             <span style=\"color: #00af00; text-decoration-color: #00af00\">0</span> │\n",
              "│ (<span style=\"color: #0087ff; text-decoration-color: #0087ff\">GlobalAveragePooling2D</span>)        │                        │               │\n",
              "├─────────────────────────────────┼────────────────────────┼───────────────┤\n",
              "│ dropout (<span style=\"color: #0087ff; text-decoration-color: #0087ff\">Dropout</span>)               │ (<span style=\"color: #00d7ff; text-decoration-color: #00d7ff\">None</span>, <span style=\"color: #00af00; text-decoration-color: #00af00\">1280</span>)           │             <span style=\"color: #00af00; text-decoration-color: #00af00\">0</span> │\n",
              "├─────────────────────────────────┼────────────────────────┼───────────────┤\n",
              "│ dense (<span style=\"color: #0087ff; text-decoration-color: #0087ff\">Dense</span>)                   │ (<span style=\"color: #00d7ff; text-decoration-color: #00d7ff\">None</span>, <span style=\"color: #00af00; text-decoration-color: #00af00\">39</span>)             │        <span style=\"color: #00af00; text-decoration-color: #00af00\">49,959</span> │\n",
              "└─────────────────────────────────┴────────────────────────┴───────────────┘\n",
              "</pre>\n"
            ]
          },
          "metadata": {}
        },
        {
          "output_type": "display_data",
          "data": {
            "text/plain": [
              "\u001b[1m Total params: \u001b[0m\u001b[38;5;34m4,199,450\u001b[0m (16.02 MB)\n"
            ],
            "text/html": [
              "<pre style=\"white-space:pre;overflow-x:auto;line-height:normal;font-family:Menlo,'DejaVu Sans Mono',consolas,'Courier New',monospace\"><span style=\"font-weight: bold\"> Total params: </span><span style=\"color: #00af00; text-decoration-color: #00af00\">4,199,450</span> (16.02 MB)\n",
              "</pre>\n"
            ]
          },
          "metadata": {}
        },
        {
          "output_type": "display_data",
          "data": {
            "text/plain": [
              "\u001b[1m Trainable params: \u001b[0m\u001b[38;5;34m49,959\u001b[0m (195.15 KB)\n"
            ],
            "text/html": [
              "<pre style=\"white-space:pre;overflow-x:auto;line-height:normal;font-family:Menlo,'DejaVu Sans Mono',consolas,'Courier New',monospace\"><span style=\"font-weight: bold\"> Trainable params: </span><span style=\"color: #00af00; text-decoration-color: #00af00\">49,959</span> (195.15 KB)\n",
              "</pre>\n"
            ]
          },
          "metadata": {}
        },
        {
          "output_type": "display_data",
          "data": {
            "text/plain": [
              "\u001b[1m Non-trainable params: \u001b[0m\u001b[38;5;34m4,049,571\u001b[0m (15.45 MB)\n"
            ],
            "text/html": [
              "<pre style=\"white-space:pre;overflow-x:auto;line-height:normal;font-family:Menlo,'DejaVu Sans Mono',consolas,'Courier New',monospace\"><span style=\"font-weight: bold\"> Non-trainable params: </span><span style=\"color: #00af00; text-decoration-color: #00af00\">4,049,571</span> (15.45 MB)\n",
              "</pre>\n"
            ]
          },
          "metadata": {}
        },
        {
          "output_type": "display_data",
          "data": {
            "text/plain": [
              "\u001b[1m Optimizer params: \u001b[0m\u001b[38;5;34m99,920\u001b[0m (390.32 KB)\n"
            ],
            "text/html": [
              "<pre style=\"white-space:pre;overflow-x:auto;line-height:normal;font-family:Menlo,'DejaVu Sans Mono',consolas,'Courier New',monospace\"><span style=\"font-weight: bold\"> Optimizer params: </span><span style=\"color: #00af00; text-decoration-color: #00af00\">99,920</span> (390.32 KB)\n",
              "</pre>\n"
            ]
          },
          "metadata": {}
        }
      ]
    },
    {
      "cell_type": "markdown",
      "source": [
        "# MOd eval"
      ],
      "metadata": {
        "id": "uamtwvDFE13Y"
      }
    },
    {
      "cell_type": "code",
      "source": [
        "train_acc,train_loss= mod.evaluate(training_set)"
      ],
      "metadata": {
        "colab": {
          "base_uri": "https://localhost:8080/"
        },
        "id": "3suyUd2eE5XP",
        "outputId": "bb56b405-a34f-4e3d-ec81-250d54509cef"
      },
      "execution_count": 12,
      "outputs": [
        {
          "output_type": "stream",
          "name": "stdout",
          "text": [
            "\u001b[1m1387/1387\u001b[0m \u001b[32m━━━━━━━━━━━━━━━━━━━━\u001b[0m\u001b[37m\u001b[0m \u001b[1m62s\u001b[0m 45ms/step - accuracy: 0.9783 - loss: 0.0765\n"
          ]
        }
      ]
    },
    {
      "cell_type": "code",
      "source": [
        "val_acc,val_loss=mod.evaluate(validation_set)"
      ],
      "metadata": {
        "colab": {
          "base_uri": "https://localhost:8080/"
        },
        "id": "CONVCE32FE-C",
        "outputId": "49f54cef-4ece-426d-e7cf-067c5e83e66d"
      },
      "execution_count": 15,
      "outputs": [
        {
          "output_type": "stream",
          "name": "stdout",
          "text": [
            "\u001b[1m347/347\u001b[0m \u001b[32m━━━━━━━━━━━━━━━━━━━━\u001b[0m\u001b[37m\u001b[0m \u001b[1m14s\u001b[0m 41ms/step - accuracy: 0.9582 - loss: 0.1384\n"
          ]
        }
      ]
    },
    {
      "cell_type": "markdown",
      "source": [
        "# Save Mod"
      ],
      "metadata": {
        "id": "MwmJEyyxFPPW"
      }
    },
    {
      "cell_type": "code",
      "source": [
        "mod.save('MobileNetV2.keras')"
      ],
      "metadata": {
        "id": "xpqux4icRQb7"
      },
      "execution_count": 16,
      "outputs": []
    },
    {
      "cell_type": "code",
      "source": [
        "history.history"
      ],
      "metadata": {
        "colab": {
          "base_uri": "https://localhost:8080/"
        },
        "id": "IPl-jwuGFRS8",
        "outputId": "7c2a90d1-629b-4e72-eaa9-609258a34eee"
      },
      "execution_count": 17,
      "outputs": [
        {
          "output_type": "execute_result",
          "data": {
            "text/plain": [
              "{'accuracy': [0.8281823992729187,\n",
              "  0.917179524898529,\n",
              "  0.931110680103302,\n",
              "  0.9368589520454407,\n",
              "  0.9444782733917236,\n",
              "  0.945875883102417,\n",
              "  0.9474989175796509,\n",
              "  0.9509028196334839,\n",
              "  0.951421320438385,\n",
              "  0.9514889121055603],\n",
              " 'loss': [0.6902944445610046,\n",
              "  0.29461798071861267,\n",
              "  0.23505745828151703,\n",
              "  0.20473754405975342,\n",
              "  0.1814102977514267,\n",
              "  0.17163801193237305,\n",
              "  0.16274482011795044,\n",
              "  0.15408927202224731,\n",
              "  0.1520051658153534,\n",
              "  0.14339600503444672],\n",
              " 'val_accuracy': [0.9220709204673767,\n",
              "  0.9374943375587463,\n",
              "  0.9452511668205261,\n",
              "  0.9493100047111511,\n",
              "  0.9533687829971313,\n",
              "  0.9545413255691528,\n",
              "  0.9549923539161682,\n",
              "  0.9586001634597778,\n",
              "  0.9587805271148682,\n",
              "  0.959502100944519],\n",
              " 'val_loss': [0.3024297058582306,\n",
              "  0.22089146077632904,\n",
              "  0.18875646591186523,\n",
              "  0.16804097592830658,\n",
              "  0.1525394767522812,\n",
              "  0.14576423168182373,\n",
              "  0.14116430282592773,\n",
              "  0.13364270329475403,\n",
              "  0.13235248625278473,\n",
              "  0.12895765900611877]}"
            ]
          },
          "metadata": {},
          "execution_count": 17
        }
      ]
    },
    {
      "cell_type": "code",
      "source": [],
      "metadata": {
        "id": "4KiWFh4NQbsp"
      },
      "execution_count": null,
      "outputs": []
    },
    {
      "cell_type": "markdown",
      "source": [
        "# recording history"
      ],
      "metadata": {
        "id": "AqHyw6qjQeyj"
      }
    },
    {
      "cell_type": "code",
      "source": [
        "import json\n",
        "with open('history.json', 'w') as f:\n",
        "    json.dump(history.history, f)"
      ],
      "metadata": {
        "id": "sx8yeXjxQiUN"
      },
      "execution_count": 18,
      "outputs": []
    },
    {
      "cell_type": "markdown",
      "source": [
        "# Accuracy Vizuvaliation"
      ],
      "metadata": {
        "id": "RE_b9kEyRfNZ"
      }
    },
    {
      "cell_type": "code",
      "source": [
        "epochs=[i for i in range(1,11)]\n",
        "plt.plot(epochs,history.history['accuracy'],label='training_accuracy')\n",
        "plt.plot(epochs,history.history['val_accuracy'],label='val_accuracy')\n",
        "plt.title('Training and Validation Accuracy')\n",
        "plt.xlabel('Epochs')\n",
        "plt.ylabel('Accuracy')\n",
        "plt.legend()\n",
        "plt.show()"
      ],
      "metadata": {
        "colab": {
          "base_uri": "https://localhost:8080/",
          "height": 472
        },
        "id": "wRtqdEqjRklu",
        "outputId": "dd0ec759-d31e-4e54-883b-f745b480eaa0"
      },
      "execution_count": 20,
      "outputs": [
        {
          "output_type": "display_data",
          "data": {
            "text/plain": [
              "<Figure size 640x480 with 1 Axes>"
            ],
            "image/png": "[encoded data removed]"
          },
          "metadata": {}
        }
      ]
    },
    {
      "cell_type": "markdown",
      "source": [
        "# Confustion Matrix for model evaluation"
      ],
      "metadata": {
        "id": "V_MVPbnoTXd-"
      }
    },
    {
      "cell_type": "code",
      "source": [
        "class_names=validation_set.class_names\n",
        "class_names"
      ],
      "metadata": {
        "colab": {
          "base_uri": "https://localhost:8080/"
        },
        "id": "PA45jAZCTcGb",
        "outputId": "da0dd21b-fec4-4d25-896b-76f7f4921e27"
      },
      "execution_count": 21,
      "outputs": [
        {
          "output_type": "execute_result",
          "data": {
            "text/plain": [
              "['Apple___Apple_scab',\n",
              " 'Apple___Black_rot',\n",
              " 'Apple___Cedar_apple_rust',\n",
              " 'Apple___healthy',\n",
              " 'Background_without_leaves',\n",
              " 'Blueberry___healthy',\n",
              " 'Cherry___Powdery_mildew',\n",
              " 'Cherry___healthy',\n",
              " 'Corn___Cercospora_leaf_spot Gray_leaf_spot',\n",
              " 'Corn___Common_rust',\n",
              " 'Corn___Northern_Leaf_Blight',\n",
              " 'Corn___healthy',\n",
              " 'Grape___Black_rot',\n",
              " 'Grape___Esca_(Black_Measles)',\n",
              " 'Grape___Leaf_blight_(Isariopsis_Leaf_Spot)',\n",
              " 'Grape___healthy',\n",
              " 'Orange___Haunglongbing_(Citrus_greening)',\n",
              " 'Peach___Bacterial_spot',\n",
              " 'Peach___healthy',\n",
              " 'Pepper,_bell___Bacterial_spot',\n",
              " 'Pepper,_bell___healthy',\n",
              " 'Potato___Early_blight',\n",
              " 'Potato___Late_blight',\n",
              " 'Potato___healthy',\n",
              " 'Raspberry___healthy',\n",
              " 'Soybean___healthy',\n",
              " 'Squash___Powdery_mildew',\n",
              " 'Strawberry___Leaf_scorch',\n",
              " 'Strawberry___healthy',\n",
              " 'Tomato___Bacterial_spot',\n",
              " 'Tomato___Early_blight',\n",
              " 'Tomato___Late_blight',\n",
              " 'Tomato___Leaf_Mold',\n",
              " 'Tomato___Septoria_leaf_spot',\n",
              " 'Tomato___Spider_mites Two-spotted_spider_mite',\n",
              " 'Tomato___Target_Spot',\n",
              " 'Tomato___Tomato_Yellow_Leaf_Curl_Virus',\n",
              " 'Tomato___Tomato_mosaic_virus',\n",
              " 'Tomato___healthy']"
            ]
          },
          "metadata": {},
          "execution_count": 21
        }
      ]
    },
    {
      "cell_type": "code",
      "source": [
        "test_set = tf.keras.utils.image_dataset_from_directory(\n",
        "    '/content/drive/MyDrive/PlantVillage_split/val',\n",
        "    labels=\"inferred\",\n",
        "    label_mode=\"categorical\",\n",
        "    class_names=None,\n",
        "    color_mode=\"rgb\",\n",
        "    batch_size=32,\n",
        "    image_size=(128, 128),\n",
        "    shuffle=False,\n",
        "    seed=None,\n",
        "    validation_split=None,\n",
        "    subset=None,\n",
        "    interpolation=\"bilinear\",\n",
        "    follow_links=False,\n",
        "    crop_to_aspect_ratio=False,\n",
        ")"
      ],
      "metadata": {
        "colab": {
          "base_uri": "https://localhost:8080/"
        },
        "id": "ZMAEzhOjTqZJ",
        "outputId": "381249c2-cdca-4fd2-8b65-26bef6f5e718"
      },
      "execution_count": 22,
      "outputs": [
        {
          "output_type": "stream",
          "name": "stdout",
          "text": [
            "Found 11087 files belonging to 39 classes.\n"
          ]
        }
      ]
    },
    {
      "cell_type": "code",
      "source": [
        "ypred=mod.predict(test_set)\n",
        "ypred.shape"
      ],
      "metadata": {
        "colab": {
          "base_uri": "https://localhost:8080/"
        },
        "id": "hUtZrscVWeaK",
        "outputId": "3d742e60-06d5-4630-f322-6b455c5f2d29"
      },
      "execution_count": 23,
      "outputs": [
        {
          "output_type": "stream",
          "name": "stdout",
          "text": [
            "\u001b[1m347/347\u001b[0m \u001b[32m━━━━━━━━━━━━━━━━━━━━\u001b[0m\u001b[37m\u001b[0m \u001b[1m27s\u001b[0m 58ms/step\n"
          ]
        },
        {
          "output_type": "execute_result",
          "data": {
            "text/plain": [
              "(11087, 39)"
            ]
          },
          "metadata": {},
          "execution_count": 23
        }
      ]
    },
    {
      "cell_type": "code",
      "source": [
        "prd_cat=tf.argmax(ypred,axis=1)\n",
        "prd_cat"
      ],
      "metadata": {
        "colab": {
          "base_uri": "https://localhost:8080/"
        },
        "id": "ggJKNFqlW2Tr",
        "outputId": "6e3514b4-4697-4056-b321-01e12f3af538"
      },
      "execution_count": 24,
      "outputs": [
        {
          "output_type": "execute_result",
          "data": {
            "text/plain": [
              "<tf.Tensor: shape=(11087,), dtype=int64, numpy=array([ 0,  0,  0, ..., 38, 38, 38])>"
            ]
          },
          "metadata": {},
          "execution_count": 24
        }
      ]
    },
    {
      "cell_type": "code",
      "source": [
        "prd_cat = tf.argmax(ypred,axis=1)"
      ],
      "metadata": {
        "id": "eTUNmf_WXI_R"
      },
      "execution_count": 25,
      "outputs": []
    },
    {
      "cell_type": "code",
      "source": [
        "prd_cat"
      ],
      "metadata": {
        "colab": {
          "base_uri": "https://localhost:8080/"
        },
        "id": "7TKXjsj4biVC",
        "outputId": "55f67a74-11c8-4c6f-869f-3c355eb61864"
      },
      "execution_count": 26,
      "outputs": [
        {
          "output_type": "execute_result",
          "data": {
            "text/plain": [
              "<tf.Tensor: shape=(11087,), dtype=int64, numpy=array([ 0,  0,  0, ..., 38, 38, 38])>"
            ]
          },
          "metadata": {},
          "execution_count": 26
        }
      ]
    },
    {
      "cell_type": "code",
      "source": [
        "true_categories = tf.concat([y for x,y in test_set],axis=0)\n",
        "true_categories"
      ],
      "metadata": {
        "colab": {
          "base_uri": "https://localhost:8080/"
        },
        "id": "36IX3BsWbr1r",
        "outputId": "afd233da-a654-47a7-9b91-9bca7260c1bb"
      },
      "execution_count": 27,
      "outputs": [
        {
          "output_type": "execute_result",
          "data": {
            "text/plain": [
              "<tf.Tensor: shape=(11087, 39), dtype=float32, numpy=\n",
              "array([[1., 0., 0., ..., 0., 0., 0.],\n",
              "       [1., 0., 0., ..., 0., 0., 0.],\n",
              "       [1., 0., 0., ..., 0., 0., 0.],\n",
              "       ...,\n",
              "       [0., 0., 0., ..., 0., 0., 1.],\n",
              "       [0., 0., 0., ..., 0., 0., 1.],\n",
              "       [0., 0., 0., ..., 0., 0., 1.]], dtype=float32)>"
            ]
          },
          "metadata": {},
          "execution_count": 27
        }
      ]
    },
    {
      "cell_type": "code",
      "source": [
        "Y_true = tf.argmax(true_categories,axis=1)\n",
        "Y_true"
      ],
      "metadata": {
        "colab": {
          "base_uri": "https://localhost:8080/"
        },
        "id": "DBiVC0xGbunA",
        "outputId": "b00ae5a7-cf8b-45f4-8f28-89e6e168b7bf"
      },
      "execution_count": 28,
      "outputs": [
        {
          "output_type": "execute_result",
          "data": {
            "text/plain": [
              "<tf.Tensor: shape=(11087,), dtype=int64, numpy=array([ 0,  0,  0, ..., 38, 38, 38])>"
            ]
          },
          "metadata": {},
          "execution_count": 28
        }
      ]
    },
    {
      "cell_type": "code",
      "source": [
        "from sklearn.metrics import classification_report,confusion_matrix\n",
        "print(classification_report(Y_true,prd_cat,target_names=class_names))"
      ],
      "metadata": {
        "colab": {
          "base_uri": "https://localhost:8080/"
        },
        "id": "FFsqN7M_bzCF",
        "outputId": "20b834bf-7d67-4684-8d90-13c9c719f456"
      },
      "execution_count": 29,
      "outputs": [
        {
          "output_type": "stream",
          "name": "stdout",
          "text": [
            "                                               precision    recall  f1-score   support\n",
            "\n",
            "                           Apple___Apple_scab       0.98      0.92      0.95       126\n",
            "                            Apple___Black_rot       0.98      0.98      0.98       124\n",
            "                     Apple___Cedar_apple_rust       0.98      0.98      0.98        55\n",
            "                              Apple___healthy       0.95      0.98      0.97       329\n",
            "                    Background_without_leaves       0.99      0.97      0.98       229\n",
            "                          Blueberry___healthy       0.99      0.99      0.99       300\n",
            "                      Cherry___Powdery_mildew       0.99      0.98      0.98       210\n",
            "                             Cherry___healthy       1.00      0.99      0.99       171\n",
            "   Corn___Cercospora_leaf_spot Gray_leaf_spot       0.92      0.85      0.88       103\n",
            "                           Corn___Common_rust       1.00      1.00      1.00       238\n",
            "                  Corn___Northern_Leaf_Blight       0.93      0.95      0.94       197\n",
            "                               Corn___healthy       1.00      1.00      1.00       232\n",
            "                            Grape___Black_rot       1.00      0.86      0.93       236\n",
            "                 Grape___Esca_(Black_Measles)       0.90      1.00      0.95       277\n",
            "   Grape___Leaf_blight_(Isariopsis_Leaf_Spot)       1.00      0.98      0.99       215\n",
            "                              Grape___healthy       0.99      0.99      0.99        85\n",
            "     Orange___Haunglongbing_(Citrus_greening)       1.00      1.00      1.00      1101\n",
            "                       Peach___Bacterial_spot       0.99      0.99      0.99       459\n",
            "                              Peach___healthy       0.96      0.99      0.97        72\n",
            "                Pepper,_bell___Bacterial_spot       0.93      0.95      0.94       199\n",
            "                       Pepper,_bell___healthy       0.98      0.95      0.97       296\n",
            "                        Potato___Early_blight       0.98      0.97      0.98       200\n",
            "                         Potato___Late_blight       0.94      0.96      0.95       200\n",
            "                             Potato___healthy       0.89      0.80      0.84        30\n",
            "                          Raspberry___healthy       0.99      0.99      0.99        74\n",
            "                            Soybean___healthy       0.99      1.00      0.99      1018\n",
            "                      Squash___Powdery_mildew       1.00      1.00      1.00       367\n",
            "                     Strawberry___Leaf_scorch       0.97      1.00      0.98       222\n",
            "                         Strawberry___healthy       1.00      1.00      1.00        91\n",
            "                      Tomato___Bacterial_spot       0.94      0.95      0.94       425\n",
            "                        Tomato___Early_blight       0.76      0.80      0.78       200\n",
            "                         Tomato___Late_blight       0.94      0.89      0.92       382\n",
            "                           Tomato___Leaf_Mold       0.90      0.86      0.88       190\n",
            "                  Tomato___Septoria_leaf_spot       0.91      0.80      0.85       354\n",
            "Tomato___Spider_mites Two-spotted_spider_mite       0.90      0.93      0.91       335\n",
            "                         Tomato___Target_Spot       0.82      0.88      0.85       281\n",
            "       Tomato___Tomato_Yellow_Leaf_Curl_Virus       0.96      0.99      0.98      1071\n",
            "                 Tomato___Tomato_mosaic_virus       0.97      0.85      0.91        75\n",
            "                             Tomato___healthy       0.96      0.95      0.95       318\n",
            "\n",
            "                                     accuracy                           0.96     11087\n",
            "                                    macro avg       0.96      0.95      0.95     11087\n",
            "                                 weighted avg       0.96      0.96      0.96     11087\n",
            "\n"
          ]
        }
      ]
    },
    {
      "cell_type": "code",
      "source": [
        "from sklearn.metrics import classification_report,confusion_matrix\n",
        "cm = confusion_matrix(Y_true,predicted_categories)\n",
        "cm"
      ],
      "metadata": {
        "id": "AJ_nthehb4ie",
        "colab": {
          "base_uri": "https://localhost:8080/",
          "height": 180
        },
        "outputId": "92cf7941-762c-4b62-b50b-61eca231f189"
      },
      "execution_count": 2,
      "outputs": [
        {
          "output_type": "error",
          "ename": "NameError",
          "evalue": "name 'Y_true' is not defined",
          "traceback": [
            "\u001b[0;31m---------------------------------------------------------------------------\u001b[0m",
            "\u001b[0;31mNameError\u001b[0m                                 Traceback (most recent call last)",
            "\u001b[0;32m/tmp/ipython-input-2700414829.py\u001b[0m in \u001b[0;36m<cell line: 0>\u001b[0;34m()\u001b[0m\n\u001b[1;32m      1\u001b[0m \u001b[0;32mfrom\u001b[0m \u001b[0msklearn\u001b[0m\u001b[0;34m.\u001b[0m\u001b[0mmetrics\u001b[0m \u001b[0;32mimport\u001b[0m \u001b[0mclassification_report\u001b[0m\u001b[0;34m,\u001b[0m\u001b[0mconfusion_matrix\u001b[0m\u001b[0;34m\u001b[0m\u001b[0;34m\u001b[0m\u001b[0m\n\u001b[0;32m----> 2\u001b[0;31m \u001b[0mcm\u001b[0m \u001b[0;34m=\u001b[0m \u001b[0mconfusion_matrix\u001b[0m\u001b[0;34m(\u001b[0m\u001b[0mY_true\u001b[0m\u001b[0;34m,\u001b[0m\u001b[0mpredicted_categories\u001b[0m\u001b[0;34m)\u001b[0m\u001b[0;34m\u001b[0m\u001b[0;34m\u001b[0m\u001b[0m\n\u001b[0m\u001b[1;32m      3\u001b[0m \u001b[0mcm\u001b[0m\u001b[0;34m\u001b[0m\u001b[0;34m\u001b[0m\u001b[0m\n",
            "\u001b[0;31mNameError\u001b[0m: name 'Y_true' is not defined"
          ]
        }
      ]
    },
    {
      "cell_type": "code",
      "source": [],
      "metadata": {
        "id": "XRzcSuCmtkJY"
      },
      "execution_count": null,
      "outputs": []
    },
    {
      "cell_type": "markdown",
      "source": [
        "# Confustion matrix viz"
      ],
      "metadata": {
        "id": "TqRBK4F9tksT"
      }
    },
    {
      "cell_type": "markdown",
      "source": [
        "We only interested in the diagonal element in the confustion matrix if the the element is bight the model is predicting correcly in the each case scenorio"
      ],
      "metadata": {
        "id": "O3klL36LvLFX"
      }
    },
    {
      "cell_type": "code",
      "source": [
        "plt.figure(figsize=(40,40))\n",
        "sns.heatmap(cm,annot=True,fmt='d',xticklabels=class_names,yticklabels=class_names)\n",
        "plt.xlabel('Predicted')\n",
        "plt.ylabel('Truth')"
      ],
      "metadata": {
        "id": "X-fuA2xmtqtg"
      },
      "execution_count": null,
      "outputs": []
    },
    {
      "cell_type": "markdown",
      "source": [
        "# perforing the model prediction based on the random sample test images on the the trained model"
      ],
      "metadata": {
        "id": "v9UrX0qBvw2P"
      }
    },
    {
      "cell_type": "code",
      "source": [],
      "metadata": {
        "id": "3l12AwwWv7vY"
      },
      "execution_count": null,
      "outputs": []
    }
  ]
}