{
  "nbformat": 4,
  "nbformat_minor": 0,
  "metadata": {
    "colab": {
      "provenance": [],
      "machine_shape": "hm",
      "gpuType": "A100"
    },
    "kernelspec": {
      "name": "python3",
      "display_name": "Python 3"
    },
    "language_info": {
      "name": "python"
    },
    "accelerator": "GPU"
  },
  "cells": [
    {
      "cell_type": "code",
      "execution_count": 1,
      "metadata": {
        "id": "tfFZxNkAbv6z"
      },
      "outputs": [],
      "source": [
        "import tensorflow as tf\n",
        "from tensorflow import keras\n",
        "from tensorflow.keras import layers, applications\n",
        "import tensorflow as tf\n",
        "import matplotlib.pyplot as plt\n",
        "import numpy as np\n",
        "import seaborn as sns\n",
        "import pandas as pd"
      ]
    },
    {
      "cell_type": "code",
      "source": [
        "training_set = tf.keras.utils.image_dataset_from_directory(\n",
        "    '/content/drive/MyDrive/PlantVillage_split/train',\n",
        "    labels=\"inferred\",\n",
        "    label_mode=\"categorical\",\n",
        "    color_mode=\"rgb\",\n",
        "    batch_size=32,\n",
        "    image_size=(128, 128),\n",
        "    shuffle=True,\n",
        "    seed=None,\n",
        "    validation_split=None,\n",
        "    subset=None,\n",
        "    interpolation=\"bilinear\",\n",
        "    follow_links=False,\n",
        "    crop_to_aspect_ratio=False,\n",
        ")\n"
      ],
      "metadata": {
        "colab": {
          "base_uri": "https://localhost:8080/"
        },
        "id": "LF-dj64XdhDV",
        "outputId": "b2c5e6b4-d66e-488b-e8b3-6367dc5bdc36"
      },
      "execution_count": 2,
      "outputs": [
        {
          "output_type": "stream",
          "name": "stdout",
          "text": [
            "Found 44361 files belonging to 39 classes.\n"
          ]
        }
      ]
    },
    {
      "cell_type": "code",
      "source": [
        "validation_set = tf.keras.utils.image_dataset_from_directory(\n",
        "    '/content/drive/MyDrive/PlantVillage_split/val',\n",
        "    labels=\"inferred\",\n",
        "    label_mode=\"categorical\",\n",
        "    color_mode=\"rgb\",\n",
        "    batch_size=32,\n",
        "    image_size=(128, 128),\n",
        "    shuffle=True,\n",
        "    seed=None,\n",
        "    validation_split=None,\n",
        "    subset=None,\n",
        "    interpolation=\"bilinear\",\n",
        "    follow_links=False,\n",
        "    crop_to_aspect_ratio=False,\n",
        ")"
      ],
      "metadata": {
        "colab": {
          "base_uri": "https://localhost:8080/"
        },
        "id": "4GUOHZ9qh-UX",
        "outputId": "3e9c00c7-a72e-4eb2-c88b-13f45841720c"
      },
      "execution_count": 3,
      "outputs": [
        {
          "output_type": "stream",
          "name": "stdout",
          "text": [
            "Found 11087 files belonging to 39 classes.\n"
          ]
        }
      ]
    },
    {
      "cell_type": "markdown",
      "source": [],
      "metadata": {
        "id": "nfoVA7ZHiEgg"
      }
    },
    {
      "cell_type": "code",
      "source": [
        "from tensorflow.keras import applications, layers, Model, Input"
      ],
      "metadata": {
        "id": "CUrK8czUiFNe"
      },
      "execution_count": 4,
      "outputs": []
    },
    {
      "cell_type": "code",
      "source": [
        "base = applications.ResNet50(include_top=False, weights=\"imagenet\", input_shape=(128, 128, 3))\n",
        "base.trainable = False"
      ],
      "metadata": {
        "colab": {
          "base_uri": "https://localhost:8080/"
        },
        "id": "i-pW8znoiLJg",
        "outputId": "8e92e411-bd78-45e5-d1d0-c73b120225f1"
      },
      "execution_count": 5,
      "outputs": [
        {
          "output_type": "stream",
          "name": "stdout",
          "text": [
            "Downloading data from https://storage.googleapis.com/tensorflow/keras-applications/resnet/resnet50_weights_tf_dim_ordering_tf_kernels_notop.h5\n",
            "\u001b[1m94765736/94765736\u001b[0m \u001b[32m━━━━━━━━━━━━━━━━━━━━\u001b[0m\u001b[37m\u001b[0m \u001b[1m5s\u001b[0m 0us/step\n"
          ]
        }
      ]
    },
    {
      "cell_type": "code",
      "source": [
        "inputs = Input(shape=(128, 128, 3))\n",
        "x = base(inputs, training=False)\n",
        "x = layers.GlobalAveragePooling2D()(x)\n",
        "x = layers.Dropout(0.3)(x)\n",
        "outputs = layers.Dense(39, activation=\"softmax\")(x)\n",
        "\n",
        "model = Model(inputs, outputs)"
      ],
      "metadata": {
        "id": "J-fTYB2GiP-A"
      },
      "execution_count": 6,
      "outputs": []
    },
    {
      "cell_type": "code",
      "source": [
        "model.compile(optimizer=\"adam\",\n",
        "              loss=\"categorical_crossentropy\",\n",
        "              metrics=[\"accuracy\"])\n",
        "history = model.fit(training_set, validation_data=validation_set, epochs=10)"
      ],
      "metadata": {
        "colab": {
          "base_uri": "https://localhost:8080/"
        },
        "id": "LNkT3OqhiiTc",
        "outputId": "12eb6903-8be2-4af1-db38-c9fa52bfbdad"
      },
      "execution_count": 7,
      "outputs": [
        {
          "output_type": "stream",
          "name": "stdout",
          "text": [
            "Epoch 1/10\n",
            "\u001b[1m1387/1387\u001b[0m \u001b[32m━━━━━━━━━━━━━━━━━━━━\u001b[0m\u001b[37m\u001b[0m \u001b[1m3066s\u001b[0m 2s/step - accuracy: 0.7450 - loss: 0.9648 - val_accuracy: 0.9286 - val_loss: 0.2298\n",
            "Epoch 2/10\n",
            "\u001b[1m1387/1387\u001b[0m \u001b[32m━━━━━━━━━━━━━━━━━━━━\u001b[0m\u001b[37m\u001b[0m \u001b[1m68s\u001b[0m 49ms/step - accuracy: 0.9247 - loss: 0.2321 - val_accuracy: 0.9414 - val_loss: 0.1860\n",
            "Epoch 3/10\n",
            "\u001b[1m1387/1387\u001b[0m \u001b[32m━━━━━━━━━━━━━━━━━━━━\u001b[0m\u001b[37m\u001b[0m \u001b[1m67s\u001b[0m 49ms/step - accuracy: 0.9391 - loss: 0.1818 - val_accuracy: 0.9491 - val_loss: 0.1667\n",
            "Epoch 4/10\n",
            "\u001b[1m1387/1387\u001b[0m \u001b[32m━━━━━━━━━━━━━━━━━━━━\u001b[0m\u001b[37m\u001b[0m \u001b[1m68s\u001b[0m 49ms/step - accuracy: 0.9482 - loss: 0.1553 - val_accuracy: 0.9438 - val_loss: 0.1906\n",
            "Epoch 5/10\n",
            "\u001b[1m1387/1387\u001b[0m \u001b[32m━━━━━━━━━━━━━━━━━━━━\u001b[0m\u001b[37m\u001b[0m \u001b[1m68s\u001b[0m 49ms/step - accuracy: 0.9533 - loss: 0.1387 - val_accuracy: 0.9504 - val_loss: 0.1816\n",
            "Epoch 6/10\n",
            "\u001b[1m1387/1387\u001b[0m \u001b[32m━━━━━━━━━━━━━━━━━━━━\u001b[0m\u001b[37m\u001b[0m \u001b[1m68s\u001b[0m 49ms/step - accuracy: 0.9539 - loss: 0.1334 - val_accuracy: 0.9522 - val_loss: 0.1698\n",
            "Epoch 7/10\n",
            "\u001b[1m1387/1387\u001b[0m \u001b[32m━━━━━━━━━━━━━━━━━━━━\u001b[0m\u001b[37m\u001b[0m \u001b[1m67s\u001b[0m 49ms/step - accuracy: 0.9570 - loss: 0.1310 - val_accuracy: 0.9503 - val_loss: 0.1747\n",
            "Epoch 8/10\n",
            "\u001b[1m1387/1387\u001b[0m \u001b[32m━━━━━━━━━━━━━━━━━━━━\u001b[0m\u001b[37m\u001b[0m \u001b[1m68s\u001b[0m 49ms/step - accuracy: 0.9572 - loss: 0.1219 - val_accuracy: 0.9560 - val_loss: 0.1637\n",
            "Epoch 9/10\n",
            "\u001b[1m1387/1387\u001b[0m \u001b[32m━━━━━━━━━━━━━━━━━━━━\u001b[0m\u001b[37m\u001b[0m \u001b[1m68s\u001b[0m 49ms/step - accuracy: 0.9589 - loss: 0.1211 - val_accuracy: 0.9545 - val_loss: 0.1695\n",
            "Epoch 10/10\n",
            "\u001b[1m1387/1387\u001b[0m \u001b[32m━━━━━━━━━━━━━━━━━━━━\u001b[0m\u001b[37m\u001b[0m \u001b[1m68s\u001b[0m 49ms/step - accuracy: 0.9624 - loss: 0.1133 - val_accuracy: 0.9572 - val_loss: 0.1632\n"
          ]
        }
      ]
    },
    {
      "cell_type": "markdown",
      "source": [
        "# model eval"
      ],
      "metadata": {
        "id": "PQM2RwBOixRH"
      }
    },
    {
      "cell_type": "code",
      "source": [
        "train_acc,train_loss= model.evaluate(training_set)"
      ],
      "metadata": {
        "colab": {
          "base_uri": "https://localhost:8080/"
        },
        "id": "Kq6HRfhYizeL",
        "outputId": "de7ad28a-b3dd-4737-bc6c-6a6b5c5d61d7"
      },
      "execution_count": 9,
      "outputs": [
        {
          "output_type": "stream",
          "name": "stdout",
          "text": [
            "\u001b[1m1387/1387\u001b[0m \u001b[32m━━━━━━━━━━━━━━━━━━━━\u001b[0m\u001b[37m\u001b[0m \u001b[1m58s\u001b[0m 42ms/step - accuracy: 0.9855 - loss: 0.0431\n"
          ]
        }
      ]
    },
    {
      "cell_type": "code",
      "source": [
        "val_acc,val_loss=model.evaluate(validation_set)"
      ],
      "metadata": {
        "colab": {
          "base_uri": "https://localhost:8080/"
        },
        "id": "66NzkYPXi0_r",
        "outputId": "ec90f12a-d2eb-4e35-b135-faf7d98510ab"
      },
      "execution_count": 11,
      "outputs": [
        {
          "output_type": "stream",
          "name": "stdout",
          "text": [
            "\u001b[1m347/347\u001b[0m \u001b[32m━━━━━━━━━━━━━━━━━━━━\u001b[0m\u001b[37m\u001b[0m \u001b[1m13s\u001b[0m 39ms/step - accuracy: 0.9585 - loss: 0.1682\n"
          ]
        }
      ]
    },
    {
      "cell_type": "code",
      "source": [
        "model.save(\"ResNet50.keras\")"
      ],
      "metadata": {
        "id": "6uNKxNoTjG9L"
      },
      "execution_count": 12,
      "outputs": []
    },
    {
      "cell_type": "code",
      "source": [
        "history.history"
      ],
      "metadata": {
        "colab": {
          "base_uri": "https://localhost:8080/"
        },
        "id": "DXgWQ6RdjMcw",
        "outputId": "dfcc3a93-dba2-45cd-c11b-a83286892e03"
      },
      "execution_count": 16,
      "outputs": [
        {
          "output_type": "execute_result",
          "data": {
            "text/plain": [
              "{'accuracy': [0.8515137434005737,\n",
              "  0.9295101761817932,\n",
              "  0.9419535398483276,\n",
              "  0.9478145241737366,\n",
              "  0.9528865218162537,\n",
              "  0.9557945132255554,\n",
              "  0.9571695923805237,\n",
              "  0.9587475657463074,\n",
              "  0.960641086101532,\n",
              "  0.9630080461502075],\n",
              " 'loss': [0.508203387260437,\n",
              "  0.22005528211593628,\n",
              "  0.17465682327747345,\n",
              "  0.15685905516147614,\n",
              "  0.13890106976032257,\n",
              "  0.13126015663146973,\n",
              "  0.12927190959453583,\n",
              "  0.12150074541568756,\n",
              "  0.11844102293252945,\n",
              "  0.1126052662730217],\n",
              " 'val_accuracy': [0.9285649657249451,\n",
              "  0.9413727521896362,\n",
              "  0.9491296410560608,\n",
              "  0.9438080787658691,\n",
              "  0.9503923654556274,\n",
              "  0.9521962404251099,\n",
              "  0.9503021836280823,\n",
              "  0.9559844732284546,\n",
              "  0.9545413255691528,\n",
              "  0.9572471976280212],\n",
              " 'val_loss': [0.2298467606306076,\n",
              "  0.18603482842445374,\n",
              "  0.16674524545669556,\n",
              "  0.19057990610599518,\n",
              "  0.18161413073539734,\n",
              "  0.16978658735752106,\n",
              "  0.17473696172237396,\n",
              "  0.16365443170070648,\n",
              "  0.16949564218521118,\n",
              "  0.1631803810596466]}"
            ]
          },
          "metadata": {},
          "execution_count": 16
        }
      ]
    },
    {
      "cell_type": "code",
      "source": [
        "import json\n",
        "with open('rhistory.json', 'w') as f:\n",
        "    json.dump(history.history, f)"
      ],
      "metadata": {
        "id": "-zk9hg5djQD2"
      },
      "execution_count": 17,
      "outputs": []
    },
    {
      "cell_type": "code",
      "source": [
        "epochs=[i for i in range(1,11)]\n",
        "plt.plot(epochs,history.history['accuracy'],label='training_accuracy')\n",
        "plt.plot(epochs,history.history['val_accuracy'],label='val_accuracy')\n",
        "plt.title('Training and Validation Accuracy')\n",
        "plt.xlabel('Epochs')\n",
        "plt.ylabel('Accuracy')\n",
        "plt.legend()\n",
        "plt.show()"
      ],
      "metadata": {
        "colab": {
          "base_uri": "https://localhost:8080/",
          "height": 472
        },
        "id": "mcKY-d5vjTQf",
        "outputId": "ea265dab-e970-491b-9588-80d2b62a4d04"
      },
      "execution_count": 18,
      "outputs": [
        {
          "output_type": "display_data",
          "data": {
            "text/plain": [
              "<Figure size 640x480 with 1 Axes>"
            ],
            "image/png": "[encoded data removed]"
          },
          "metadata": {}
        }
      ]
    },
    {
      "cell_type": "code",
      "source": [
        "class_names=validation_set.class_names\n",
        "class_names"
      ],
      "metadata": {
        "colab": {
          "base_uri": "https://localhost:8080/"
        },
        "id": "hP0ucHP9jXaQ",
        "outputId": "94d0b4f9-db2b-4dae-d33a-003fdffb334c"
      },
      "execution_count": 19,
      "outputs": [
        {
          "output_type": "execute_result",
          "data": {
            "text/plain": [
              "['Apple___Apple_scab',\n",
              " 'Apple___Black_rot',\n",
              " 'Apple___Cedar_apple_rust',\n",
              " 'Apple___healthy',\n",
              " 'Background_without_leaves',\n",
              " 'Blueberry___healthy',\n",
              " 'Cherry___Powdery_mildew',\n",
              " 'Cherry___healthy',\n",
              " 'Corn___Cercospora_leaf_spot Gray_leaf_spot',\n",
              " 'Corn___Common_rust',\n",
              " 'Corn___Northern_Leaf_Blight',\n",
              " 'Corn___healthy',\n",
              " 'Grape___Black_rot',\n",
              " 'Grape___Esca_(Black_Measles)',\n",
              " 'Grape___Leaf_blight_(Isariopsis_Leaf_Spot)',\n",
              " 'Grape___healthy',\n",
              " 'Orange___Haunglongbing_(Citrus_greening)',\n",
              " 'Peach___Bacterial_spot',\n",
              " 'Peach___healthy',\n",
              " 'Pepper,_bell___Bacterial_spot',\n",
              " 'Pepper,_bell___healthy',\n",
              " 'Potato___Early_blight',\n",
              " 'Potato___Late_blight',\n",
              " 'Potato___healthy',\n",
              " 'Raspberry___healthy',\n",
              " 'Soybean___healthy',\n",
              " 'Squash___Powdery_mildew',\n",
              " 'Strawberry___Leaf_scorch',\n",
              " 'Strawberry___healthy',\n",
              " 'Tomato___Bacterial_spot',\n",
              " 'Tomato___Early_blight',\n",
              " 'Tomato___Late_blight',\n",
              " 'Tomato___Leaf_Mold',\n",
              " 'Tomato___Septoria_leaf_spot',\n",
              " 'Tomato___Spider_mites Two-spotted_spider_mite',\n",
              " 'Tomato___Target_Spot',\n",
              " 'Tomato___Tomato_Yellow_Leaf_Curl_Virus',\n",
              " 'Tomato___Tomato_mosaic_virus',\n",
              " 'Tomato___healthy']"
            ]
          },
          "metadata": {},
          "execution_count": 19
        }
      ]
    },
    {
      "cell_type": "code",
      "source": [],
      "metadata": {
        "id": "09cmO24ej0NA"
      },
      "execution_count": null,
      "outputs": []
    }
  ]
}